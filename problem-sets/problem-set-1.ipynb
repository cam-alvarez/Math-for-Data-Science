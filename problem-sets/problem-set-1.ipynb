{
 "cells": [
  {
   "cell_type": "markdown",
   "source": [
    "# Problem Set 1 - MNIST Dataset\n",
    "\n",
    "- Load MNIST and show a montage of the images.\n",
    "- Run a random y=mx model on MNIST\n",
    "- Train random walk model to at least 75% accuracy\n",
    "- Create a markdown (.md) report and add it to your GitHub"
   ],
   "metadata": {
    "collapsed": false
   },
   "id": "ccb01ab1b593fa58"
  },
  {
   "cell_type": "code",
   "execution_count": 141,
   "id": "initial_id",
   "metadata": {
    "collapsed": true,
    "ExecuteTime": {
     "end_time": "2023-10-10T17:32:42.259647Z",
     "start_time": "2023-10-10T17:32:33.188200Z"
    }
   },
   "outputs": [],
   "source": [
    "%%capture\n",
    "import sys\n",
    "\n",
    "# List of libraries to be installed\n",
    "libraries = ['numpy', 'matplotlib', 'torch', 'torchvision', 'scikit-image', 'wandb']\n",
    "\n",
    "# Iterating through the list and installing each library\n",
    "for library in libraries:\n",
    "    !{sys.executable} -m pip install {library}\n",
    "\n",
    "# Now you can import the libraries\n",
    "import numpy as np\n",
    "import matplotlib.pyplot as plt\n",
    "import torch\n",
    "from torchvision import datasets\n",
    "from skimage.util import montage\n",
    "import wandb as wb\n",
    "from skimage.io import imread"
   ]
  },
  {
   "cell_type": "code",
   "execution_count": 142,
   "outputs": [],
   "source": [
    "def GPU(data):\n",
    "    return torch.tensor(data, requires_grad=True, dtype=torch.float)\n",
    "\n",
    "def GPU_data(data):\n",
    "    return torch.tensor(data, requires_grad=False, dtype=torch.float)"
   ],
   "metadata": {
    "collapsed": false,
    "ExecuteTime": {
     "end_time": "2023-10-10T17:32:42.267365Z",
     "start_time": "2023-10-10T17:32:42.261455Z"
    }
   },
   "id": "3b5a3bd50a0d004e"
  },
  {
   "cell_type": "markdown",
   "source": [
    "## Montage plot of MNIST Data"
   ],
   "metadata": {
    "collapsed": false
   },
   "id": "a387a36e95611b1f"
  },
  {
   "cell_type": "code",
   "execution_count": 143,
   "outputs": [],
   "source": [
    "def plot(x):\n",
    "    if type(x) == torch.Tensor :\n",
    "        x = x.cpu().detach().numpy()\n",
    "\n",
    "    fig, ax = plt.subplots()\n",
    "    im = ax.imshow(x, cmap = 'gray')\n",
    "    ax.axis('off')\n",
    "    fig.set_size_inches(7, 7)\n",
    "    plt.show()\n",
    "\n",
    "def montage_plot(x):\n",
    "    x = np.pad(x, pad_width=((0, 0), (1, 1), (1, 1)), mode='constant', constant_values=0)\n",
    "    plot(montage(x))"
   ],
   "metadata": {
    "collapsed": false,
    "ExecuteTime": {
     "end_time": "2023-10-10T17:32:42.277555Z",
     "start_time": "2023-10-10T17:32:42.266097Z"
    }
   },
   "id": "3322a424414c0748"
  },
  {
   "cell_type": "code",
   "execution_count": 144,
   "outputs": [],
   "source": [
    "# Download MNIST data training and test sets \n",
    "train_set = datasets.MNIST('./data', train=True, download=True)\n",
    "test_set = datasets.MNIST('./data', train=False, download=True)"
   ],
   "metadata": {
    "collapsed": false,
    "ExecuteTime": {
     "end_time": "2023-10-10T17:32:42.319714Z",
     "start_time": "2023-10-10T17:32:42.270823Z"
    }
   },
   "id": "d4519b08d4fe3557"
  },
  {
   "cell_type": "code",
   "execution_count": 145,
   "outputs": [],
   "source": [
    "# Create arrays for data test and training sets\n",
    "X = train_set.data.numpy()\n",
    "X_test = test_set.data.numpy()\n",
    "\n",
    "# Create arrays for targets of test and training sets\n",
    "Y = train_set.targets.numpy()\n",
    "Y_test = test_set.targets.numpy()\n",
    "\n",
    "# Set color channel to 1 (greyscale)\n",
    "X = X[:,None,:,:]/255\n",
    "X_test = X_test[:,None,:,:]/255"
   ],
   "metadata": {
    "collapsed": false,
    "ExecuteTime": {
     "end_time": "2023-10-10T17:32:42.470116Z",
     "start_time": "2023-10-10T17:32:42.321963Z"
    }
   },
   "id": "5ffa4ebb16e978cb"
  },
  {
   "cell_type": "code",
   "execution_count": 146,
   "outputs": [
    {
     "data": {
      "text/plain": "<Figure size 700x700 with 1 Axes>",
      "image/png": "[encoded data removed]"
     },
     "metadata": {},
     "output_type": "display_data"
    }
   ],
   "source": [
    "# Display montage of elements 125-150\n",
    "montage_plot(X[125:150,0,:,:])"
   ],
   "metadata": {
    "collapsed": false,
    "ExecuteTime": {
     "end_time": "2023-10-10T17:32:42.579514Z",
     "start_time": "2023-10-10T17:32:42.490001Z"
    }
   },
   "id": "6a3679c20ce0a46"
  },
  {
   "cell_type": "markdown",
   "source": [
    "## Random y = mx model "
   ],
   "metadata": {
    "collapsed": false
   },
   "id": "8d5e89479a12f3c4"
  },
  {
   "cell_type": "code",
   "execution_count": 147,
   "outputs": [],
   "source": [
    "# Reshape train and test sets from 4D to 2D (flattening)\n",
    "X = X.reshape(X.shape[0],784)\n",
    "X_test = X_test.reshape(X_test.shape[0],784)"
   ],
   "metadata": {
    "collapsed": false,
    "ExecuteTime": {
     "end_time": "2023-10-10T17:32:42.661232Z",
     "start_time": "2023-10-10T17:32:42.597317Z"
    }
   },
   "id": "a81257b7ee2524b9"
  },
  {
   "cell_type": "code",
   "execution_count": 148,
   "outputs": [],
   "source": [
    "# Return tensor for x and y of training and test sets\n",
    "X = GPU_data(X)\n",
    "Y = GPU_data(Y)\n",
    "X_test = GPU_data(X_test)\n",
    "Y_test = GPU_data(Y_test)"
   ],
   "metadata": {
    "collapsed": false,
    "ExecuteTime": {
     "end_time": "2023-10-10T17:32:42.802799Z",
     "start_time": "2023-10-10T17:32:42.658003Z"
    }
   },
   "id": "7d6e749bfa3c8e30"
  },
  {
   "cell_type": "code",
   "execution_count": 149,
   "outputs": [],
   "source": [
    "# Transpose tensor\n",
    "X = X.T"
   ],
   "metadata": {
    "collapsed": false,
    "ExecuteTime": {
     "end_time": "2023-10-10T17:32:42.810756Z",
     "start_time": "2023-10-10T17:32:42.803794Z"
    }
   },
   "id": "277ce34d0820101e"
  },
  {
   "cell_type": "code",
   "execution_count": 150,
   "outputs": [
    {
     "data": {
      "text/plain": "tensor(0.0781)"
     },
     "execution_count": 150,
     "metadata": {},
     "output_type": "execute_result"
    }
   ],
   "source": [
    "batch_size = 64\n",
    "\n",
    "# initialize random matrix M \n",
    "M = GPU(np.random.rand(10,784))\n",
    "\n",
    "# create new matrix that consists of the number of images of the n set in batch_size\n",
    "x = X[:,0:batch_size]\n",
    "\n",
    "# multiply random matrix M by x\n",
    "y = M@x\n",
    "\n",
    "# replace y with indices of the max values in each column (prediction)\n",
    "y = torch.argmax(y,0)\n",
    "\n",
    "# compare predictor y with Y targets and divide by batch size to get rate of success\n",
    "torch.sum((y == Y[0:batch_size]))/batch_size"
   ],
   "metadata": {
    "collapsed": false,
    "ExecuteTime": {
     "end_time": "2023-10-10T17:32:42.823252Z",
     "start_time": "2023-10-10T17:32:42.809547Z"
    }
   },
   "id": "6e97a9693a1d4652"
  },
  {
   "cell_type": "markdown",
   "source": [
    "## Train random walk model to at least 75% accuracy"
   ],
   "metadata": {
    "collapsed": false
   },
   "id": "72353e5824d75140"
  },
  {
   "cell_type": "code",
   "execution_count": null,
   "outputs": [],
   "source": [
    "# Initialize constants and data\n",
    "N = 100\n",
    "M = GPU_data(np.random.rand(N,10,784))\n",
    "\n",
    "# Initialize best model variables\n",
    "m_best = 0\n",
    "acc_best = 0\n",
    "\n",
    "# Initialize step size for gradient ascent\n",
    "step = 0.00000000001\n",
    "\n",
    "# Main loop to iterate 1 million times\n",
    "for i in range(1000000):\n",
    "   \n",
    "    # Compute predictions: dot product of M and X, then take argmax along axis 1\n",
    "    y = torch.argmax((M@X), axis=1)\n",
    "    # Compute score: number of correct predictions divided by total predictions\n",
    "    score = ((y == Y).sum(1)/len(Y))\n",
    "    # Sort score in descending order and sort M matrix accordingly\n",
    "    s = torch.argsort(score,descending=True)\n",
    "    M = M[s]\n",
    "\n",
    "    # Zero out the last 50 rows of M, and copy the first row into the first 50 rows\n",
    "    M[50:100] = 0\n",
    "    M[0:50] = M[0]\n",
    "    # Update all but the first row of M using gradient ascent\n",
    "    M[1:] += step*GPU_data(np.random.rand(N-1,10,784))\n",
    "\n",
    "    # Retrieve the best accuracy for this iteration\n",
    "    acc = score[s][0].item()\n",
    "\n",
    "    # Update best model and best accuracy if a better model is found\n",
    "    if acc > acc_best:\n",
    "        m_best = M[0]\n",
    "        acc_best = acc\n",
    "\n",
    "        # Print iteration number and best accuracy so far\n",
    "        print(i,acc)"
   ],
   "metadata": {
    "collapsed": false
   },
   "id": "82f676f20928ec37"
  }
 ],
 "metadata": {
  "kernelspec": {
   "display_name": "Python 3",
   "language": "python",
   "name": "python3"
  },
  "language_info": {
   "codemirror_mode": {
    "name": "ipython",
    "version": 2
   },
   "file_extension": ".py",
   "mimetype": "text/x-python",
   "name": "python",
   "nbconvert_exporter": "python",
   "pygments_lexer": "ipython2",
   "version": "2.7.6"
  }
 },
 "nbformat": 4,
 "nbformat_minor": 5
}
