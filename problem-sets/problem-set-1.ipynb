{
 "cells": [
  {
   "cell_type": "markdown",
   "source": [
    "# Problem Set 1 - MNIST Dataset\n",
    "\n",
    "- Load MNIST and show a montage of the images.\n",
    "- Run a random y=mx model on MNIST\n",
    "- Train random walk model to at least 75% accuracy\n",
    "- Create a markdown (.md) report and add it to your GitHub"
   ],
   "metadata": {
    "collapsed": false
   },
   "id": "2f6f95ec08171118"
  },
  {
   "cell_type": "code",
   "execution_count": null,
   "outputs": [],
   "source": [
    "%%capture\n",
    "import sys\n",
    "\n",
    "# List of libraries to be installed\n",
    "libraries = ['numpy', 'matplotlib', 'torch', 'torchvision', 'scikit-image', 'wandb']\n",
    "\n",
    "# Iterating through the list and installing each library\n",
    "for library in libraries:\n",
    "    !{sys.executable} -m pip install {library}\n",
    "\n",
    "# Now you can import the libraries\n",
    "import numpy as np\n",
    "import matplotlib.pyplot as plt\n",
    "import torch\n",
    "from torchvision import datasets\n",
    "from skimage.util import montage\n",
    "import wandb as wb\n",
    "from skimage.io import imread"
   ],
   "metadata": {
    "collapsed": false
   },
   "id": "3ad860a62d3a73d6"
  },
  {
   "cell_type": "code",
   "execution_count": null,
   "outputs": [],
   "source": [
    "def GPU(data):\n",
    "    return torch.tensor(data, requires_grad=True, dtype=torch.float)\n",
    "\n",
    "def GPU_data(data):\n",
    "    return torch.tensor(data, requires_grad=False, dtype=torch.float)"
   ],
   "metadata": {
    "collapsed": false
   },
   "id": "47b3c6ad84d7e3fc"
  },
  {
   "cell_type": "markdown",
   "source": [
    "## Montage plot of MNIST Data"
   ],
   "metadata": {
    "collapsed": false
   },
   "id": "f9231bd365da0d05"
  },
  {
   "cell_type": "code",
   "execution_count": null,
   "outputs": [],
   "source": [
    "def plot(x):\n",
    "    if type(x) == torch.Tensor :\n",
    "        x = x.cpu().detach().numpy()\n",
    "\n",
    "    fig, ax = plt.subplots()\n",
    "    im = ax.imshow(x, cmap = 'gray')\n",
    "    ax.axis('off')\n",
    "    fig.set_size_inches(7, 7)\n",
    "    plt.show()\n",
    "\n",
    "def montage_plot(x):\n",
    "    x = np.pad(x, pad_width=((0, 0), (1, 1), (1, 1)), mode='constant', constant_values=0)\n",
    "    plot(montage(x))"
   ],
   "metadata": {
    "collapsed": false
   },
   "id": "f890ae1c1e37ae1e"
  },
  {
   "cell_type": "code",
   "execution_count": null,
   "outputs": [],
   "source": [
    "# Download MNIST data training and test sets \n",
    "train_set = datasets.MNIST('./data', train=True, download=True)\n",
    "test_set = datasets.MNIST('./data', train=False, download=True)"
   ],
   "metadata": {
    "collapsed": false
   },
   "id": "cee5c94a4c96805d"
  },
  {
   "cell_type": "code",
   "execution_count": null,
   "outputs": [],
   "source": [
    "# Create arrays for data test and training sets\n",
    "X = train_set.data.numpy()\n",
    "X_test = test_set.data.numpy()\n",
    "\n",
    "# Create arrays for targets of test and training sets\n",
    "Y = train_set.targets.numpy()\n",
    "Y_test = test_set.targets.numpy()\n",
    "\n",
    "# Set color channel to 1 (greyscale)\n",
    "X = X[:,None,:,:]/255\n",
    "X_test = X_test[:,None,:,:]/255"
   ],
   "metadata": {
    "collapsed": false
   },
   "id": "12c680659b6aa628"
  },
  {
   "cell_type": "code",
   "execution_count": null,
   "outputs": [],
   "source": [
    "# Display montage of elements 125-150\n",
    "montage_plot(X[125:150,0,:,:])"
   ],
   "metadata": {
    "collapsed": false
   },
   "id": "e57acc0edef2f692"
  },
  {
   "cell_type": "markdown",
   "source": [
    "## Random y = mx model "
   ],
   "metadata": {
    "collapsed": false
   },
   "id": "c0880c632b1b0af2"
  },
  {
   "cell_type": "code",
   "execution_count": null,
   "outputs": [],
   "source": [
    "# Reshape train and test sets from 4D to 2D (flattening)\n",
    "X = X.reshape(X.shape[0],784)\n",
    "X_test = X_test.reshape(X_test.shape[0],784)"
   ],
   "metadata": {
    "collapsed": false
   },
   "id": "682d92dd007339ab"
  },
  {
   "cell_type": "code",
   "execution_count": null,
   "outputs": [],
   "source": [
    "# Return tensor for x and y of training and test sets\n",
    "X = GPU_data(X)\n",
    "Y = GPU_data(Y)\n",
    "X_test = GPU_data(X_test)\n",
    "Y_test = GPU_data(Y_test)"
   ],
   "metadata": {
    "collapsed": false
   },
   "id": "d1f5cbe7e7667881"
  },
  {
   "cell_type": "code",
   "execution_count": null,
   "outputs": [],
   "source": [
    "# Transpose tensor\n",
    "X = X.T"
   ],
   "metadata": {
    "collapsed": false
   },
   "id": "d0ed51eb98a509a2"
  },
  {
   "cell_type": "code",
   "execution_count": null,
   "outputs": [],
   "source": [
    "batch_size = 64\n",
    "\n",
    "# initialize random matrix M \n",
    "M = GPU(np.random.rand(10,784))\n",
    "\n",
    "# create new matrix that consists of the number of images of the n set in batch_size\n",
    "x = X[:,0:batch_size]\n",
    "\n",
    "# multiply random matrix M by x\n",
    "y = M@x\n",
    "\n",
    "# replace y with indices of the max values in each column (prediction)\n",
    "y = torch.argmax(y,0)\n",
    "\n",
    "# compare predictor y with Y targets and divide by batch size to get rate of success\n",
    "torch.sum((y == Y[0:batch_size]))/batch_size"
   ],
   "metadata": {
    "collapsed": false
   },
   "id": "8b5a4032b6e7314b"
  },
  {
   "cell_type": "markdown",
   "source": [
    "## Train random walk model to at least 75% accuracy"
   ],
   "metadata": {
    "collapsed": false
   },
   "id": "7e4601ddf4204ac9"
  },
  {
   "cell_type": "code",
   "execution_count": null,
   "outputs": [],
   "source": [
    "# Initialize constants and data\n",
    "N = 100\n",
    "M = GPU_data(np.random.rand(N,10,784))\n",
    "\n",
    "# Initialize best model variables\n",
    "m_best = 0\n",
    "acc_best = 0\n",
    "\n",
    "# Initialize step size for gradient ascent\n",
    "step = 0.00000000001\n",
    "\n",
    "# Main loop to iterate 1 million times\n",
    "for i in range(1000000):\n",
    "   \n",
    "    # Compute predictions: dot product of M and X, then take argmax along axis 1\n",
    "    y = torch.argmax((M@X), axis=1)\n",
    "    # Compute score: number of correct predictions divided by total predictions\n",
    "    score = ((y == Y).sum(1)/len(Y))\n",
    "    # Sort score in descending order and sort M matrix accordingly\n",
    "    s = torch.argsort(score,descending=True)\n",
    "    M = M[s]\n",
    "\n",
    "    # Zero out the last 50 rows of M, and copy the first row into the first 50 rows\n",
    "    M[50:100] = 0\n",
    "    M[0:50] = M[0]\n",
    "    # Update all but the first row of M using gradient ascent\n",
    "    M[1:] += step*GPU_data(np.random.rand(N-1,10,784))\n",
    "\n",
    "    # Retrieve the best accuracy for this iteration\n",
    "    acc = score[s][0].item()\n",
    "\n",
    "    # Update best model and best accuracy if a better model is found\n",
    "    if acc > acc_best:\n",
    "        m_best = M[0]\n",
    "        acc_best = acc\n",
    "\n",
    "        # Print iteration number and best accuracy so far\n",
    "        print(i,acc)"
   ],
   "metadata": {
    "collapsed": false
   },
   "id": "1f76b42a7bd57c2c"
  }
 ],
 "metadata": {
  "kernelspec": {
   "display_name": "Python 3",
   "language": "python",
   "name": "python3"
  },
  "language_info": {
   "codemirror_mode": {
    "name": "ipython",
    "version": 2
   },
   "file_extension": ".py",
   "mimetype": "text/x-python",
   "name": "python",
   "nbconvert_exporter": "python",
   "pygments_lexer": "ipython2",
   "version": "2.7.6"
  }
 },
 "nbformat": 4,
 "nbformat_minor": 5
}
