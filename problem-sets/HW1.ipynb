{
  "nbformat": 4,
  "nbformat_minor": 0,
  "metadata": {
    "colab": {
      "provenance": []
    },
    "kernelspec": {
      "name": "python3",
      "display_name": "Python 3"
    },
    "language_info": {
      "name": "python"
    }
  },
  "cells": [
    {
      "cell_type": "markdown",
      "metadata": {
        "id": "a0417d08-c83b-40a6-871d-6b39bebe708f"
      },
      "source": [
        "# HW 1 - Camila Alvarez"
      ]
    },
    {
      "cell_type": "code",
      "execution_count": 59,
      "metadata": {
        "id": "37b5e24f-ff90-466d-ad17-814f35e27c5e"
      },
      "outputs": [],
      "source": [
        "import pandas as pd\n",
        "import numpy as np\n",
        "from scipy import stats"
      ]
    },
    {
      "cell_type": "markdown",
      "source": [
        "## 1. Load the CSV file and display it's shape"
      ],
      "metadata": {
        "id": "_S7-qwcc1php"
      }
    },
    {
      "cell_type": "markdown",
      "source": [
        "### Load CSV file"
      ],
      "metadata": {
        "id": "GL51gxOR12B8"
      }
    },
    {
      "cell_type": "code",
      "execution_count": 60,
      "metadata": {
        "id": "8461d767-8315-43da-9ec9-754f0bc43c32"
      },
      "outputs": [],
      "source": [
        "# URL to the CSV file\n",
        "csv_data = 'https://raw.githubusercontent.com/cam-alvarez/Personal-Portfolio-and-Blog/main/public/2020-tristatecounty-crashdata.csv'\n",
        "\n",
        "# Read the CSV file from the URL\n",
        "data = pd.read_csv(csv_data, low_memory=False)"
      ]
    },
    {
      "cell_type": "markdown",
      "source": [
        "### Display shape"
      ],
      "metadata": {
        "id": "nT1XRW9s146q"
      }
    },
    {
      "cell_type": "code",
      "source": [
        "data.shape"
      ],
      "metadata": {
        "colab": {
          "base_uri": "https://localhost:8080/",
          "height": 0
        },
        "id": "DcqZecP-172d",
        "outputId": "0ffc32ea-ea28-4e8c-8fbd-84824cf68bd9"
      },
      "execution_count": 61,
      "outputs": [
        {
          "output_type": "execute_result",
          "data": {
            "text/plain": [
              "(42437, 156)"
            ]
          },
          "metadata": {},
          "execution_count": 61
        }
      ]
    },
    {
      "cell_type": "markdown",
      "source": [
        "## 2. Print the header and the last few rows"
      ],
      "metadata": {
        "id": "6pLmN-0E2Kyu"
      }
    },
    {
      "cell_type": "code",
      "source": [
        "print(data.head)"
      ],
      "metadata": {
        "colab": {
          "base_uri": "https://localhost:8080/",
          "height": 0
        },
        "id": "Gc1SmK5v2Q-I",
        "outputId": "f0bf04fc-c7c2-4664-ff40-0e3fa983b10f"
      },
      "execution_count": 62,
      "outputs": [
        {
          "output_type": "stream",
          "name": "stdout",
          "text": [
            "<bound method NDFrame.head of        OBJECTID            XID  CALENDAR_YEAR  CRASH_NUMBER     CASE_NUMBER  \\\n",
            "0         46260  2020240008560           2020     240008560  SW200418002763   \n",
            "1         46262  2020240009300           2020     240009300  SW200623004004   \n",
            "2         46263  2020240008950           2020     240008950  SW200526003407   \n",
            "3         46264  2020240009370           2020     240009370  SW200627004094   \n",
            "4         46265  2020240009390           2020     240009390  SW200630004129   \n",
            "...         ...            ...            ...           ...             ...   \n",
            "42432   3276841  2020898931120           2020     898931120        20076553   \n",
            "42433   3276842  2020898931130           2020     898931130        20078437   \n",
            "42434   3276855  2020898926440           2020     898926440        20080067   \n",
            "42435   3276856  2020898926470           2020     898926470        20085417   \n",
            "42436   3276857  2020898905790           2020     898905790        20058817   \n",
            "\n",
            "       INVSTGT_AGCY_CD          AGENCY_TYPE_TXT  DOT_GEOG_DIST_CD  \\\n",
            "0                    2  COUNTY SHERIFF'S OFFICE                 6   \n",
            "1                    2  COUNTY SHERIFF'S OFFICE                 6   \n",
            "2                    2  COUNTY SHERIFF'S OFFICE                 6   \n",
            "3                    2  COUNTY SHERIFF'S OFFICE                 6   \n",
            "4                    2  COUNTY SHERIFF'S OFFICE                 6   \n",
            "...                ...                      ...               ...   \n",
            "42432                3   CITY POLICE DEPARTMENT                 4   \n",
            "42433                3   CITY POLICE DEPARTMENT                 4   \n",
            "42434                3   CITY POLICE DEPARTMENT                 4   \n",
            "42435                3   CITY POLICE DEPARTMENT                 4   \n",
            "42436                3   CITY POLICE DEPARTMENT                 4   \n",
            "\n",
            "       DOT_CNTY_CD  COUNTY_TXT  ... DST_TOXTRMNODB_NUM   LATITUDE  LONGITUDE  \\\n",
            "0               87  MIAMI-DADE  ...              0.000  25.768485 -80.369050   \n",
            "1               87  MIAMI-DADE  ...              0.000  25.772765 -80.377372   \n",
            "2               87  MIAMI-DADE  ...             30.000  25.764033 -80.370621   \n",
            "3               87  MIAMI-DADE  ...            175.221  25.769046 -80.377067   \n",
            "4               87  MIAMI-DADE  ...            461.305  25.796869 -80.383180   \n",
            "...            ...         ...  ...                ...        ...        ...   \n",
            "42432           93  PALM BEACH  ...              0.000  26.619594 -80.204900   \n",
            "42433           93  PALM BEACH  ...              0.000  26.679161 -80.157710   \n",
            "42434           93  PALM BEACH  ...              0.000  26.698955 -80.111447   \n",
            "42435           93  PALM BEACH  ...              0.000  26.697056 -80.111358   \n",
            "42436           93  PALM BEACH  ...              0.000  26.572381 -80.069896   \n",
            "\n",
            "        X_COORDINATE  Y_COORDINATE  ARBM_ROADSIDE GEO_URBAN_RURAL_IND  \\\n",
            "0      563268.029378  2.850197e+06              L                 NaN   \n",
            "1      562431.326832  2.850667e+06              C                   U   \n",
            "2      563112.833830  2.849703e+06              C                   U   \n",
            "3      562463.816656  2.850255e+06              C                   U   \n",
            "4      561836.398308  2.853334e+06              C                   U   \n",
            "...              ...           ...            ...                 ...   \n",
            "42432  579151.230187  2.944549e+06              L                 NaN   \n",
            "42433  583805.652943  2.951177e+06              L                 NaN   \n",
            "42434  588393.590196  2.953400e+06              L                 NaN   \n",
            "42435  588403.940585  2.953190e+06              R                 NaN   \n",
            "42436  592629.357700  2.939410e+06              O                 NaN   \n",
            "\n",
            "       MAP_SOURCE   EXTRACT_DATE  ARBM_ROAD_STATUS  \n",
            "0      ARBM15Q1R2  1686446352000               NaN  \n",
            "1      ARBM15Q1R2  1686446352000               NaN  \n",
            "2      ARBM15Q1R2  1686446352000               NaN  \n",
            "3      ARBM15Q1R2  1686446352000               NaN  \n",
            "4      ARBM15Q1R2  1686446352000               NaN  \n",
            "...           ...            ...               ...  \n",
            "42432  ARBM15Q1R2  1686446352000               NaN  \n",
            "42433  ARBM15Q1R2  1686446352000               NaN  \n",
            "42434  ARBM15Q1R2  1686446352000               NaN  \n",
            "42435  ARBM15Q1R2  1686446352000               NaN  \n",
            "42436  ARBM15Q1R2  1686446352000               NaN  \n",
            "\n",
            "[42437 rows x 156 columns]>\n"
          ]
        }
      ]
    },
    {
      "cell_type": "code",
      "source": [
        "print(data.tail())"
      ],
      "metadata": {
        "colab": {
          "base_uri": "https://localhost:8080/",
          "height": 0
        },
        "id": "pkGAybc-5Tn-",
        "outputId": "ee4bf761-d870-49c1-c039-ef1a213b47ff"
      },
      "execution_count": 63,
      "outputs": [
        {
          "output_type": "stream",
          "name": "stdout",
          "text": [
            "       OBJECTID            XID  CALENDAR_YEAR  CRASH_NUMBER CASE_NUMBER  \\\n",
            "42432   3276841  2020898931120           2020     898931120    20076553   \n",
            "42433   3276842  2020898931130           2020     898931130    20078437   \n",
            "42434   3276855  2020898926440           2020     898926440    20080067   \n",
            "42435   3276856  2020898926470           2020     898926470    20085417   \n",
            "42436   3276857  2020898905790           2020     898905790    20058817   \n",
            "\n",
            "       INVSTGT_AGCY_CD         AGENCY_TYPE_TXT  DOT_GEOG_DIST_CD  DOT_CNTY_CD  \\\n",
            "42432                3  CITY POLICE DEPARTMENT                 4           93   \n",
            "42433                3  CITY POLICE DEPARTMENT                 4           93   \n",
            "42434                3  CITY POLICE DEPARTMENT                 4           93   \n",
            "42435                3  CITY POLICE DEPARTMENT                 4           93   \n",
            "42436                3  CITY POLICE DEPARTMENT                 4           93   \n",
            "\n",
            "       COUNTY_TXT  ... DST_TOXTRMNODB_NUM   LATITUDE  LONGITUDE  \\\n",
            "42432  PALM BEACH  ...                0.0  26.619594 -80.204900   \n",
            "42433  PALM BEACH  ...                0.0  26.679161 -80.157710   \n",
            "42434  PALM BEACH  ...                0.0  26.698955 -80.111447   \n",
            "42435  PALM BEACH  ...                0.0  26.697056 -80.111358   \n",
            "42436  PALM BEACH  ...                0.0  26.572381 -80.069896   \n",
            "\n",
            "        X_COORDINATE  Y_COORDINATE  ARBM_ROADSIDE GEO_URBAN_RURAL_IND  \\\n",
            "42432  579151.230187  2.944549e+06              L                 NaN   \n",
            "42433  583805.652943  2.951177e+06              L                 NaN   \n",
            "42434  588393.590196  2.953400e+06              L                 NaN   \n",
            "42435  588403.940585  2.953190e+06              R                 NaN   \n",
            "42436  592629.357700  2.939410e+06              O                 NaN   \n",
            "\n",
            "       MAP_SOURCE   EXTRACT_DATE  ARBM_ROAD_STATUS  \n",
            "42432  ARBM15Q1R2  1686446352000               NaN  \n",
            "42433  ARBM15Q1R2  1686446352000               NaN  \n",
            "42434  ARBM15Q1R2  1686446352000               NaN  \n",
            "42435  ARBM15Q1R2  1686446352000               NaN  \n",
            "42436  ARBM15Q1R2  1686446352000               NaN  \n",
            "\n",
            "[5 rows x 156 columns]\n"
          ]
        }
      ]
    },
    {
      "cell_type": "markdown",
      "source": [
        "### 3. Print a summary of the dataset's statistical details (use .describe())."
      ],
      "metadata": {
        "id": "4pThaMxN3m3_"
      }
    },
    {
      "cell_type": "code",
      "source": [
        "print(data.describe())"
      ],
      "metadata": {
        "colab": {
          "base_uri": "https://localhost:8080/",
          "height": 0
        },
        "id": "W20XVmgB4EOd",
        "outputId": "fc0c0336-5fd8-4b8c-fc3c-439ba0952919"
      },
      "execution_count": 64,
      "outputs": [
        {
          "output_type": "stream",
          "name": "stdout",
          "text": [
            "           OBJECTID           XID  CALENDAR_YEAR  CRASH_NUMBER  \\\n",
            "count  4.243700e+04  4.243700e+04        42437.0  4.243700e+04   \n",
            "mean   2.747499e+06  2.020868e+12         2020.0  8.675152e+08   \n",
            "std    3.456252e+05  1.203487e+08            0.0  1.203487e+08   \n",
            "min    4.626000e+04  2.020201e+12         2020.0  2.008799e+08   \n",
            "25%    2.567948e+06  2.020883e+12         2020.0  8.830793e+08   \n",
            "50%    2.808012e+06  2.020893e+12         2020.0  8.931770e+08   \n",
            "75%    2.886453e+06  2.020895e+12         2020.0  8.953640e+08   \n",
            "max    3.276918e+06  2.020901e+12         2020.0  9.012890e+08   \n",
            "\n",
            "       INVSTGT_AGCY_CD  DOT_GEOG_DIST_CD   DOT_CNTY_CD    CRASH_TIME  \\\n",
            "count     42437.000000      42437.000000  42437.000000  42437.000000   \n",
            "mean          1.907369          5.452695     87.378962   1366.414780   \n",
            "std           0.731978          1.094596      1.954060    559.673083   \n",
            "min           1.000000          4.000000     86.000000      0.000000   \n",
            "25%           1.000000          4.000000     87.000000    953.000000   \n",
            "50%           2.000000          6.000000     87.000000   1430.000000   \n",
            "75%           2.000000          6.000000     87.000000   1805.000000   \n",
            "max           4.000000          8.000000     93.000000   2359.000000   \n",
            "\n",
            "           DAYOWEEK  DHSMV_CTY_CD  ...  CRSH_XTMREF_NOD_ID  \\\n",
            "count  42437.000000  42437.000000  ...        4.243700e+04   \n",
            "mean       3.947404   8781.719372  ...        1.758052e+06   \n",
            "std        1.928368    197.782962  ...        3.634607e+07   \n",
            "min        1.000000   8600.000000  ...        0.000000e+00   \n",
            "25%        2.000000   8700.000000  ...        0.000000e+00   \n",
            "50%        4.000000   8754.000000  ...        0.000000e+00   \n",
            "75%        6.000000   8766.000000  ...        0.000000e+00   \n",
            "max        7.000000   9395.000000  ...        9.794906e+08   \n",
            "\n",
            "       DSTNC_TOXTRNOD_NUM  CRSH_XTRREFNODB_ID  DST_TOXTRMNODB_NUM  \\\n",
            "count        42437.000000        4.243700e+04        42437.000000   \n",
            "mean             2.456348        1.707853e+06            1.866935   \n",
            "std             48.540356        3.582984e+07           33.724909   \n",
            "min              0.000000        0.000000e+00            0.000000   \n",
            "25%              0.000000        0.000000e+00            0.000000   \n",
            "50%              0.000000        0.000000e+00            0.000000   \n",
            "75%              0.000000        0.000000e+00            0.000000   \n",
            "max           3483.380000        9.877892e+08         1692.560000   \n",
            "\n",
            "           LATITUDE     LONGITUDE   X_COORDINATE  Y_COORDINATE  EXTRACT_DATE  \\\n",
            "count  42437.000000  42437.000000   42437.000000  4.243700e+04  4.243700e+04   \n",
            "mean      25.967217    -80.232456  576822.341930  2.872283e+06  1.686446e+12   \n",
            "std        0.279017      0.094414    9338.876977  3.093608e+04  0.000000e+00   \n",
            "min       25.243418    -80.872059  512785.202352  2.792021e+06  1.686446e+12   \n",
            "25%       25.785228    -80.295262  570557.097797  2.852108e+06  1.686446e+12   \n",
            "50%       25.887040    -80.211394  578974.022341  2.863424e+06  1.686446e+12   \n",
            "75%       26.100372    -80.166361  583403.740344  2.887080e+06  1.686446e+12   \n",
            "max       26.966401    -80.035799  595923.720776  2.983042e+06  1.686446e+12   \n",
            "\n",
            "       ARBM_ROAD_STATUS  \n",
            "count               0.0  \n",
            "mean                NaN  \n",
            "std                 NaN  \n",
            "min                 NaN  \n",
            "25%                 NaN  \n",
            "50%                 NaN  \n",
            "75%                 NaN  \n",
            "max                 NaN  \n",
            "\n",
            "[8 rows x 88 columns]\n"
          ]
        }
      ]
    },
    {
      "cell_type": "markdown",
      "source": [
        "### 4. Display a concise summary of the dataframe (use .info())."
      ],
      "metadata": {
        "id": "CWodwFhL4Ebu"
      }
    },
    {
      "cell_type": "code",
      "source": [
        "print(data.info())\n",
        "\n",
        "column_names = data.columns.tolist()\n",
        "for col in data.columns:\n",
        "    print(col)"
      ],
      "metadata": {
        "colab": {
          "base_uri": "https://localhost:8080/",
          "height": 0
        },
        "id": "mgDkdkCu4G3t",
        "outputId": "bd492407-b8eb-46b7-b8fc-f40bc452c9d6"
      },
      "execution_count": 65,
      "outputs": [
        {
          "output_type": "stream",
          "name": "stdout",
          "text": [
            "<class 'pandas.core.frame.DataFrame'>\n",
            "RangeIndex: 42437 entries, 0 to 42436\n",
            "Columns: 156 entries, OBJECTID to ARBM_ROAD_STATUS\n",
            "dtypes: float64(29), int64(59), object(68)\n",
            "memory usage: 50.5+ MB\n",
            "None\n",
            "OBJECTID\n",
            "XID\n",
            "CALENDAR_YEAR\n",
            "CRASH_NUMBER\n",
            "CASE_NUMBER\n",
            "INVSTGT_AGCY_CD\n",
            "AGENCY_TYPE_TXT\n",
            "DOT_GEOG_DIST_CD\n",
            "DOT_CNTY_CD\n",
            "COUNTY_TXT\n",
            "CRASH_DATE\n",
            "CRASH_TIME\n",
            "DAYOWEEK\n",
            "WEEKDAY_TXT\n",
            "DHSMV_CTY_CD\n",
            "DHSCNTYCTY\n",
            "IN_TOWN_FLAG\n",
            "ON_ROADWAY_NAME\n",
            "INT_ROADWAY_NAME\n",
            "REFDISTANCE_MI\n",
            "REFDIRECT\n",
            "OFFICER_LATITUDE\n",
            "OFFICER_LONGITUDE\n",
            "SAFETYLAT\n",
            "SAFETYLON\n",
            "ROADWAYID\n",
            "LOCMP\n",
            "NEAREST_NODE_FROM_CRASH\n",
            "STATE_ROAD_NUMBER\n",
            "US_ROAD_NUMBER\n",
            "ACCSIDRD\n",
            "ACCLANE\n",
            "TRAVDIR\n",
            "CRRATECD\n",
            "DHSRDSYS\n",
            "JCT_CD\n",
            "FRST_HARM_LOC_CD\n",
            "INTCT_TYP_CD\n",
            "TYPESHLD\n",
            "SKID_NUMBER\n",
            "SKID_TEST_DATE\n",
            "FUNCLASS\n",
            "RCI_SURFACE_WIDTH_FT\n",
            "RCI_SHOULDER_TYPE_1\n",
            "RCI_SHOULDER_TYPE_1_TXT\n",
            "RCI_SHOULDER_WIDTH_1_FT\n",
            "RCI_SHOULDER_TYPE_2\n",
            "RCI_SHOULDER_TYPE_2_TXT\n",
            "RCI_SHOULDER_WIDTH_2_FT\n",
            "RCI_SHOULDER_TYPE_3\n",
            "RCI_SHOULDER_TYPE_3_TXT\n",
            "RCI_SHOULDER_WIDTH_3_FT\n",
            "RCI_MEDIAN_WIDTH_FT\n",
            "AVERAGE_DAILY_TRAFFIC\n",
            "AADT_SOURCE\n",
            "RCI_AVG_PERC_TRUCK_TRAFF\n",
            "RCI_HORIZ_CURVE_CD\n",
            "SPEED_LIMIT\n",
            "INJSEVER\n",
            "CARSTACD\n",
            "ALCINVCD\n",
            "SITELOCA\n",
            "LGHT_COND_CD\n",
            "EVNT_WTHR_COND_CD\n",
            "RD_SRFC_COND_CD\n",
            "RDWY_GRDE_CD\n",
            "RDWY_ALIGN_CD\n",
            "TRAF_WAY_CD\n",
            "V1_TRAF_WAY_CD\n",
            "V1_TRAF_WAY_CD_TXT\n",
            "V2_TRAF_WAY_CD\n",
            "V2_TRAF_WAY_CD_TXT\n",
            "V1TRAFCTL\n",
            "V1TRAFCTL_TXT\n",
            "V2TRAFCTL\n",
            "V2TRAFCTL_TXT\n",
            "TRAFFIC_CONTROL_MC\n",
            "CNTOFLANES\n",
            "ROADCOND1\n",
            "ROADCOND1_TXT\n",
            "ROADCOND2\n",
            "ROADCOND2_TXT\n",
            "ROADCOND3\n",
            "ROADCOND3_TXT\n",
            "ROAD_CONDITION_MC\n",
            "ENVIRNMT1\n",
            "ENVIRNMT1_TXT\n",
            "ENVIRNMT2\n",
            "ENVIRNMT2_TXT\n",
            "ENVIRNMT3\n",
            "ENVIRNMT3_TXT\n",
            "ENVIRONMENT_CONDITION_MC\n",
            "MOST_HARM_EVNT_CD\n",
            "IMPCT_TYP_CD\n",
            "VHCL_MOVE_CD\n",
            "D1_FRST_DR_ACTN_CD\n",
            "D1_FRST_DR_ACTN_CD_TXT\n",
            "D2_FRST_DR_ACTN_CD\n",
            "D2_FRST_DR_ACTN_CD_TXT\n",
            "DRIVER_ACTION_MC\n",
            "LOC_WTHN_ZONE_CD\n",
            "WRK_ZONE_TYP_CD\n",
            "WRK_PRSNT_CD\n",
            "LAW_ENFRC_PRSNT_CD\n",
            "SCHL_BUS_REL_CD\n",
            "NUMBER_OF_INJURED\n",
            "NUMBER_OF_KILLED\n",
            "NUMBER_OF_SERIOUS_INJURIES\n",
            "NUMBER_OF_PEDESTRIANS\n",
            "TOTAL_DRIVERS\n",
            "NUMBER_OF_BICYCLISTS\n",
            "NUMBER_OF_VEHICLES\n",
            "TOTAL_PERSONS\n",
            "WRONGWAY_IND\n",
            "WORKZONE_IND\n",
            "COMMERCIAL_VEHICLE_IND\n",
            "INTERSECTION_IND\n",
            "LANE_DEPARTURE_IND\n",
            "CRASH_CLASS_IND_MC\n",
            "SPEEDING_IND\n",
            "AGGRESSIVE_DRIVING_IND\n",
            "IMPAIRED_DRIVER_IND\n",
            "IMPAIRED_PEDESTRIAN_IND\n",
            "IMPAIRED_BICYCLIST_IND\n",
            "DISTRACTED_DRIVER_IND\n",
            "DRIVER_PEDEST_CONDIT_IND_MC\n",
            "SPEEDING_AGGRESSIVE_IND\n",
            "PEDESTRIAN_RELATED_IND\n",
            "BICYCLIST_RELATED_IND\n",
            "PEDESTRIAN_BICYCLIST_IND\n",
            "MOTORCYCLE_INVOLVED_IND\n",
            "NO_BELT_IND\n",
            "NO_BELT_AGE_1_4_IND\n",
            "NO_BELT_AGE_5_12_IND\n",
            "NO_BELT_AGE_13_17_IND\n",
            "AGE_TEEN_IND\n",
            "AGE_65_PLUS_IND\n",
            "AGE_65_69_IND\n",
            "AGE_70_74_IND\n",
            "AGE_75_79_IND\n",
            "AGE_80_PLUS_IND\n",
            "LINK_ID\n",
            "CRSH_REF_NODE_ID\n",
            "CRSH_XTMREF_NOD_ID\n",
            "DSTNC_TOXTRNOD_NUM\n",
            "CRSH_XTRREFNODB_ID\n",
            "DST_TOXTRMNODB_NUM\n",
            "LATITUDE\n",
            "LONGITUDE\n",
            "X_COORDINATE\n",
            "Y_COORDINATE\n",
            "ARBM_ROADSIDE\n",
            "GEO_URBAN_RURAL_IND\n",
            "MAP_SOURCE\n",
            "EXTRACT_DATE\n",
            "ARBM_ROAD_STATUS\n"
          ]
        }
      ]
    },
    {
      "cell_type": "markdown",
      "source": [
        "### 5. Add an index column and display its new shape."
      ],
      "metadata": {
        "id": "KW8Ay1VI4PDK"
      }
    },
    {
      "cell_type": "code",
      "source": [
        "data ['index'] = pd.Series(range(0,42436))\n",
        "data.shape\n",
        "print(data.head())"
      ],
      "metadata": {
        "colab": {
          "base_uri": "https://localhost:8080/",
          "height": 0
        },
        "id": "5LE-TO-m4Q9N",
        "outputId": "f383e5de-db5f-40a9-f4bf-83f782e9bcb0"
      },
      "execution_count": 66,
      "outputs": [
        {
          "output_type": "stream",
          "name": "stdout",
          "text": [
            "   OBJECTID            XID  CALENDAR_YEAR  CRASH_NUMBER     CASE_NUMBER  \\\n",
            "0     46260  2020240008560           2020     240008560  SW200418002763   \n",
            "1     46262  2020240009300           2020     240009300  SW200623004004   \n",
            "2     46263  2020240008950           2020     240008950  SW200526003407   \n",
            "3     46264  2020240009370           2020     240009370  SW200627004094   \n",
            "4     46265  2020240009390           2020     240009390  SW200630004129   \n",
            "\n",
            "   INVSTGT_AGCY_CD          AGENCY_TYPE_TXT  DOT_GEOG_DIST_CD  DOT_CNTY_CD  \\\n",
            "0                2  COUNTY SHERIFF'S OFFICE                 6           87   \n",
            "1                2  COUNTY SHERIFF'S OFFICE                 6           87   \n",
            "2                2  COUNTY SHERIFF'S OFFICE                 6           87   \n",
            "3                2  COUNTY SHERIFF'S OFFICE                 6           87   \n",
            "4                2  COUNTY SHERIFF'S OFFICE                 6           87   \n",
            "\n",
            "   COUNTY_TXT  ...   LATITUDE  LONGITUDE   X_COORDINATE  Y_COORDINATE  \\\n",
            "0  MIAMI-DADE  ...  25.768485 -80.369050  563268.029378  2.850197e+06   \n",
            "1  MIAMI-DADE  ...  25.772765 -80.377372  562431.326832  2.850667e+06   \n",
            "2  MIAMI-DADE  ...  25.764033 -80.370621  563112.833830  2.849703e+06   \n",
            "3  MIAMI-DADE  ...  25.769046 -80.377067  562463.816656  2.850255e+06   \n",
            "4  MIAMI-DADE  ...  25.796869 -80.383180  561836.398308  2.853334e+06   \n",
            "\n",
            "   ARBM_ROADSIDE  GEO_URBAN_RURAL_IND  MAP_SOURCE   EXTRACT_DATE  \\\n",
            "0              L                  NaN  ARBM15Q1R2  1686446352000   \n",
            "1              C                    U  ARBM15Q1R2  1686446352000   \n",
            "2              C                    U  ARBM15Q1R2  1686446352000   \n",
            "3              C                    U  ARBM15Q1R2  1686446352000   \n",
            "4              C                    U  ARBM15Q1R2  1686446352000   \n",
            "\n",
            "  ARBM_ROAD_STATUS  index  \n",
            "0              NaN    0.0  \n",
            "1              NaN    1.0  \n",
            "2              NaN    2.0  \n",
            "3              NaN    3.0  \n",
            "4              NaN    4.0  \n",
            "\n",
            "[5 rows x 157 columns]\n"
          ]
        }
      ]
    },
    {
      "cell_type": "markdown",
      "source": [
        "### 6. Choose a numerical field and print its unique values."
      ],
      "metadata": {
        "id": "Xw4PVjF64Shh"
      }
    },
    {
      "cell_type": "code",
      "source": [
        "print(data['SITELOCA'].unique())"
      ],
      "metadata": {
        "colab": {
          "base_uri": "https://localhost:8080/",
          "height": 0
        },
        "id": "YhobVj8H4VUb",
        "outputId": "238893ec-f4fc-4570-a938-712cba11fee1"
      },
      "execution_count": 67,
      "outputs": [
        {
          "output_type": "stream",
          "name": "stdout",
          "text": [
            "[ 2  1  3  8 77  4  7  6  5 13 12]\n"
          ]
        }
      ]
    },
    {
      "cell_type": "markdown",
      "source": [
        "### 7. Replace an extreme set of values in the dataset with zero, -1, or np.NaN"
      ],
      "metadata": {
        "id": "FIx4mM6z4VkQ"
      }
    },
    {
      "cell_type": "code",
      "source": [
        "data['SITELOCA'] = data['SITELOCA'].replace({77: np.NaN})\n",
        "print(data['SITELOCA'].unique())"
      ],
      "metadata": {
        "colab": {
          "base_uri": "https://localhost:8080/",
          "height": 0
        },
        "id": "eqcVIQV64Zpj",
        "outputId": "da693b32-20e3-4607-bf7f-0808d9b69ff0"
      },
      "execution_count": 68,
      "outputs": [
        {
          "output_type": "stream",
          "name": "stdout",
          "text": [
            "[ 2.  1.  3.  8. nan  4.  7.  6.  5. 13. 12.]\n"
          ]
        }
      ]
    },
    {
      "cell_type": "markdown",
      "source": [
        "### 8. Plot a histogram of a numerical variable."
      ],
      "metadata": {
        "id": "sfK1jOBq4aTx"
      }
    },
    {
      "cell_type": "code",
      "source": [
        "data['INJSEVER'].plot(kind='hist', title='Number of Injuries by Severity Level')"
      ],
      "metadata": {
        "colab": {
          "base_uri": "https://localhost:8080/",
          "height": 469
        },
        "id": "PHyDzV2H4enX",
        "outputId": "32b4366c-773b-4454-c034-f4c7ecb111eb"
      },
      "execution_count": 69,
      "outputs": [
        {
          "output_type": "execute_result",
          "data": {
            "text/plain": [
              "<Axes: title={'center': 'Number of Injuries by Severity Level'}, ylabel='Frequency'>"
            ]
          },
          "metadata": {},
          "execution_count": 69
        },
        {
          "output_type": "display_data",
          "data": {
            "text/plain": [
              "<Figure size 640x480 with 1 Axes>"
            ],
            "image/png": "[encoded data removed]"
          },
          "metadata": {}
        }
      ]
    },
    {
      "cell_type": "markdown",
      "source": [
        "### 9. Choose a categorical field and represent it as a numerical field (create a new column), then display the last few rows (use .tail())."
      ],
      "metadata": {
        "id": "jxUe625k4hGC"
      }
    },
    {
      "cell_type": "code",
      "source": [
        "data[\"COUNTY_CODE\"] = data['COUNTY_TXT']\n",
        "print(data['COUNTY_TXT'].unique())\n",
        "\n",
        "county_codes = {\"COUNTY_CODE\": {\"MIAMI-DADE\":1, \"BROWARD\":2, \"PALM BEACH\":3, \"unknown\": np.NaN}}\n",
        "county_codes"
      ],
      "metadata": {
        "colab": {
          "base_uri": "https://localhost:8080/",
          "height": 0
        },
        "id": "iGa6K09b4nU3",
        "outputId": "6e4e57c5-fcce-473c-948d-a8d8c72056b1"
      },
      "execution_count": 70,
      "outputs": [
        {
          "output_type": "stream",
          "name": "stdout",
          "text": [
            "['MIAMI-DADE' 'BROWARD' 'PALM BEACH']\n"
          ]
        },
        {
          "output_type": "execute_result",
          "data": {
            "text/plain": [
              "{'COUNTY_CODE': {'MIAMI-DADE': 1,\n",
              "  'BROWARD': 2,\n",
              "  'PALM BEACH': 3,\n",
              "  'unknown': nan}}"
            ]
          },
          "metadata": {},
          "execution_count": 70
        }
      ]
    },
    {
      "cell_type": "code",
      "source": [
        "data.replace(county_codes, inplace=True)\n",
        "print(data.head())"
      ],
      "metadata": {
        "colab": {
          "base_uri": "https://localhost:8080/",
          "height": 0
        },
        "id": "V-UOcy5NCmSm",
        "outputId": "13845eda-4fff-40b0-c16f-5a8b01f346eb"
      },
      "execution_count": 71,
      "outputs": [
        {
          "output_type": "stream",
          "name": "stdout",
          "text": [
            "   OBJECTID            XID  CALENDAR_YEAR  CRASH_NUMBER     CASE_NUMBER  \\\n",
            "0     46260  2020240008560           2020     240008560  SW200418002763   \n",
            "1     46262  2020240009300           2020     240009300  SW200623004004   \n",
            "2     46263  2020240008950           2020     240008950  SW200526003407   \n",
            "3     46264  2020240009370           2020     240009370  SW200627004094   \n",
            "4     46265  2020240009390           2020     240009390  SW200630004129   \n",
            "\n",
            "   INVSTGT_AGCY_CD          AGENCY_TYPE_TXT  DOT_GEOG_DIST_CD  DOT_CNTY_CD  \\\n",
            "0                2  COUNTY SHERIFF'S OFFICE                 6           87   \n",
            "1                2  COUNTY SHERIFF'S OFFICE                 6           87   \n",
            "2                2  COUNTY SHERIFF'S OFFICE                 6           87   \n",
            "3                2  COUNTY SHERIFF'S OFFICE                 6           87   \n",
            "4                2  COUNTY SHERIFF'S OFFICE                 6           87   \n",
            "\n",
            "   COUNTY_TXT  ...  LONGITUDE   X_COORDINATE  Y_COORDINATE ARBM_ROADSIDE  \\\n",
            "0  MIAMI-DADE  ... -80.369050  563268.029378  2.850197e+06             L   \n",
            "1  MIAMI-DADE  ... -80.377372  562431.326832  2.850667e+06             C   \n",
            "2  MIAMI-DADE  ... -80.370621  563112.833830  2.849703e+06             C   \n",
            "3  MIAMI-DADE  ... -80.377067  562463.816656  2.850255e+06             C   \n",
            "4  MIAMI-DADE  ... -80.383180  561836.398308  2.853334e+06             C   \n",
            "\n",
            "   GEO_URBAN_RURAL_IND  MAP_SOURCE   EXTRACT_DATE ARBM_ROAD_STATUS index  \\\n",
            "0                  NaN  ARBM15Q1R2  1686446352000              NaN   0.0   \n",
            "1                    U  ARBM15Q1R2  1686446352000              NaN   1.0   \n",
            "2                    U  ARBM15Q1R2  1686446352000              NaN   2.0   \n",
            "3                    U  ARBM15Q1R2  1686446352000              NaN   3.0   \n",
            "4                    U  ARBM15Q1R2  1686446352000              NaN   4.0   \n",
            "\n",
            "   COUNTY_CODE  \n",
            "0            1  \n",
            "1            1  \n",
            "2            1  \n",
            "3            1  \n",
            "4            1  \n",
            "\n",
            "[5 rows x 158 columns]\n"
          ]
        }
      ]
    },
    {
      "cell_type": "markdown",
      "source": [
        "### 10. Use the zscore function to standardize a numerical field (create a new column), then show its histogram."
      ],
      "metadata": {
        "id": "HsjXDbDW4nwK"
      }
    },
    {
      "cell_type": "code",
      "source": [
        "data['INJSEVER_Z'] = stats.zscore(data['INJSEVER'])"
      ],
      "metadata": {
        "id": "rnWfgJsD4rn4"
      },
      "execution_count": 72,
      "outputs": []
    },
    {
      "cell_type": "code",
      "source": [
        "data['INJSEVER_Z'].plot(kind='hist', title = 'Normalized Average Daily Traffic')"
      ],
      "metadata": {
        "colab": {
          "base_uri": "https://localhost:8080/",
          "height": 469
        },
        "id": "EHXmi7-xDufA",
        "outputId": "ca380483-7a69-4677-a947-717a96e21c03"
      },
      "execution_count": 73,
      "outputs": [
        {
          "output_type": "execute_result",
          "data": {
            "text/plain": [
              "<Axes: title={'center': 'Normalized Average Daily Traffic'}, ylabel='Frequency'>"
            ]
          },
          "metadata": {},
          "execution_count": 73
        },
        {
          "output_type": "display_data",
          "data": {
            "text/plain": [
              "<Figure size 640x480 with 1 Axes>"
            ],
            "image/png": "[encoded data removed]"
          },
          "metadata": {}
        }
      ]
    },
    {
      "cell_type": "markdown",
      "source": [
        "### 11. Identify a field and use a criterion of your choosing to filter for outliers. Create a new dataset with the outliers and display the first few rows (use .head())."
      ],
      "metadata": {
        "id": "YHFqcxvq4r_m"
      }
    },
    {
      "cell_type": "code",
      "source": [
        "data.query('INJSEVER_Z > 3 | INJSEVER_Z < -3')"
      ],
      "metadata": {
        "colab": {
          "base_uri": "https://localhost:8080/",
          "height": 635
        },
        "id": "051ZgbMI4w5D",
        "outputId": "10404da4-6c0b-4c6e-835d-a2cb87a1e5d3"
      },
      "execution_count": 74,
      "outputs": [
        {
          "output_type": "execute_result",
          "data": {
            "text/plain": [
              "       OBJECTID            XID  CALENDAR_YEAR  CRASH_NUMBER      CASE_NUMBER  \\\n",
              "277     1674429  2020882469490           2020     882469490  FHPE20OFF003406   \n",
              "383     1679423  2020882502240           2020     882502240  FHPE20OFF038860   \n",
              "579     1835930  2020882852680           2020     882852680  FHPE20OFF004902   \n",
              "766     1837708  2020882707750           2020     882707750  FHPE20OFF012537   \n",
              "930     1839879  2020882870200           2020     882870200  FHPE20OFF008217   \n",
              "...         ...            ...            ...           ...              ...   \n",
              "42198   3273925  2020898971620           2020     898971620         20111234   \n",
              "42209   3273940  2020898906650           2020     898906650         20120371   \n",
              "42280   3275029  2020899176940           2020     899176940      20200008238   \n",
              "42292   3275084  2020898980840           2020     898980840         20141981   \n",
              "42305   3275165  2020898981560           2020     898981560         20100284   \n",
              "\n",
              "       INVSTGT_AGCY_CD          AGENCY_TYPE_TXT  DOT_GEOG_DIST_CD  \\\n",
              "277                  1   FLORIDA HIGHWAY PATROL                 6   \n",
              "383                  1   FLORIDA HIGHWAY PATROL                 6   \n",
              "579                  1   FLORIDA HIGHWAY PATROL                 6   \n",
              "766                  1   FLORIDA HIGHWAY PATROL                 6   \n",
              "930                  1   FLORIDA HIGHWAY PATROL                 6   \n",
              "...                ...                      ...               ...   \n",
              "42198                3   CITY POLICE DEPARTMENT                 4   \n",
              "42209                3   CITY POLICE DEPARTMENT                 4   \n",
              "42280                2  COUNTY SHERIFF'S OFFICE                 4   \n",
              "42292                3   CITY POLICE DEPARTMENT                 4   \n",
              "42305                3   CITY POLICE DEPARTMENT                 4   \n",
              "\n",
              "       DOT_CNTY_CD  COUNTY_TXT  ...   X_COORDINATE  Y_COORDINATE  \\\n",
              "277             87  MIAMI-DADE  ...  549703.315794  2.811374e+06   \n",
              "383             87  MIAMI-DADE  ...  560609.109468  2.826090e+06   \n",
              "579             87  MIAMI-DADE  ...  576167.801921  2.855111e+06   \n",
              "766             87  MIAMI-DADE  ...  579495.366942  2.871863e+06   \n",
              "930             87  MIAMI-DADE  ...  567992.293014  2.856536e+06   \n",
              "...            ...         ...  ...            ...           ...   \n",
              "42198           93  PALM BEACH  ...  581403.299398  2.951221e+06   \n",
              "42209           93  PALM BEACH  ...  579083.416596  2.938664e+06   \n",
              "42280           93  PALM BEACH  ...  593851.618921  2.959440e+06   \n",
              "42292           93  PALM BEACH  ...  593465.553079  2.944329e+06   \n",
              "42305           93  PALM BEACH  ...  579498.008663  2.954395e+06   \n",
              "\n",
              "       ARBM_ROADSIDE GEO_URBAN_RURAL_IND  MAP_SOURCE   EXTRACT_DATE  \\\n",
              "277                C                 NaN  ARBM15Q1R2  1686446352000   \n",
              "383                R                 NaN  ARBM15Q1R2  1686446352000   \n",
              "579                R                 NaN  ARBM15Q1R2  1686446352000   \n",
              "766                L                 NaN  ARBM15Q1R2  1686446352000   \n",
              "930                R                 NaN  ARBM15Q1R2  1686446352000   \n",
              "...              ...                 ...         ...            ...   \n",
              "42198              R                 NaN  ARBM15Q1R2  1686446352000   \n",
              "42209              L                 NaN  ARBM15Q1R2  1686446352000   \n",
              "42280              C                 NaN  ARBM15Q1R2  1686446352000   \n",
              "42292              O                 NaN  ARBM15Q1R2  1686446352000   \n",
              "42305              R                 NaN  ARBM15Q1R2  1686446352000   \n",
              "\n",
              "      ARBM_ROAD_STATUS    index COUNTY_CODE  INJSEVER_Z  \n",
              "277                NaN    277.0           1    4.015645  \n",
              "383                NaN    383.0           1    4.015645  \n",
              "579                NaN    579.0           1    4.015645  \n",
              "766                NaN    766.0           1    4.015645  \n",
              "930                NaN    930.0           1    4.015645  \n",
              "...                ...      ...         ...         ...  \n",
              "42198              NaN  42198.0           3    4.015645  \n",
              "42209              NaN  42209.0           3    4.015645  \n",
              "42280              NaN  42280.0           3    4.015645  \n",
              "42292              NaN  42292.0           3    4.015645  \n",
              "42305              NaN  42305.0           3    4.015645  \n",
              "\n",
              "[473 rows x 159 columns]"
            ],
            "text/html": [
              "\n",
              "  <div id=\"df-48e6019f-9050-4227-bab9-31795b19a1a0\" class=\"colab-df-container\">\n",
              "    <div>\n",
              "<style scoped>\n",
              "    .dataframe tbody tr th:only-of-type {\n",
              "        vertical-align: middle;\n",
              "    }\n",
              "\n",
              "    .dataframe tbody tr th {\n",
              "        vertical-align: top;\n",
              "    }\n",
              "\n",
              "    .dataframe thead th {\n",
              "        text-align: right;\n",
              "    }\n",
              "</style>\n",
              "<table border=\"1\" class=\"dataframe\">\n",
              "  <thead>\n",
              "    <tr style=\"text-align: right;\">\n",
              "      <th></th>\n",
              "      <th>OBJECTID</th>\n",
              "      <th>XID</th>\n",
              "      <th>CALENDAR_YEAR</th>\n",
              "      <th>CRASH_NUMBER</th>\n",
              "      <th>CASE_NUMBER</th>\n",
              "      <th>INVSTGT_AGCY_CD</th>\n",
              "      <th>AGENCY_TYPE_TXT</th>\n",
              "      <th>DOT_GEOG_DIST_CD</th>\n",
              "      <th>DOT_CNTY_CD</th>\n",
              "      <th>COUNTY_TXT</th>\n",
              "      <th>...</th>\n",
              "      <th>X_COORDINATE</th>\n",
              "      <th>Y_COORDINATE</th>\n",
              "      <th>ARBM_ROADSIDE</th>\n",
              "      <th>GEO_URBAN_RURAL_IND</th>\n",
              "      <th>MAP_SOURCE</th>\n",
              "      <th>EXTRACT_DATE</th>\n",
              "      <th>ARBM_ROAD_STATUS</th>\n",
              "      <th>index</th>\n",
              "      <th>COUNTY_CODE</th>\n",
              "      <th>INJSEVER_Z</th>\n",
              "    </tr>\n",
              "  </thead>\n",
              "  <tbody>\n",
              "    <tr>\n",
              "      <th>277</th>\n",
              "      <td>1674429</td>\n",
              "      <td>2020882469490</td>\n",
              "      <td>2020</td>\n",
              "      <td>882469490</td>\n",
              "      <td>FHPE20OFF003406</td>\n",
              "      <td>1</td>\n",
              "      <td>FLORIDA HIGHWAY PATROL</td>\n",
              "      <td>6</td>\n",
              "      <td>87</td>\n",
              "      <td>MIAMI-DADE</td>\n",
              "      <td>...</td>\n",
              "      <td>549703.315794</td>\n",
              "      <td>2.811374e+06</td>\n",
              "      <td>C</td>\n",
              "      <td>NaN</td>\n",
              "      <td>ARBM15Q1R2</td>\n",
              "      <td>1686446352000</td>\n",
              "      <td>NaN</td>\n",
              "      <td>277.0</td>\n",
              "      <td>1</td>\n",
              "      <td>4.015645</td>\n",
              "    </tr>\n",
              "    <tr>\n",
              "      <th>383</th>\n",
              "      <td>1679423</td>\n",
              "      <td>2020882502240</td>\n",
              "      <td>2020</td>\n",
              "      <td>882502240</td>\n",
              "      <td>FHPE20OFF038860</td>\n",
              "      <td>1</td>\n",
              "      <td>FLORIDA HIGHWAY PATROL</td>\n",
              "      <td>6</td>\n",
              "      <td>87</td>\n",
              "      <td>MIAMI-DADE</td>\n",
              "      <td>...</td>\n",
              "      <td>560609.109468</td>\n",
              "      <td>2.826090e+06</td>\n",
              "      <td>R</td>\n",
              "      <td>NaN</td>\n",
              "      <td>ARBM15Q1R2</td>\n",
              "      <td>1686446352000</td>\n",
              "      <td>NaN</td>\n",
              "      <td>383.0</td>\n",
              "      <td>1</td>\n",
              "      <td>4.015645</td>\n",
              "    </tr>\n",
              "    <tr>\n",
              "      <th>579</th>\n",
              "      <td>1835930</td>\n",
              "      <td>2020882852680</td>\n",
              "      <td>2020</td>\n",
              "      <td>882852680</td>\n",
              "      <td>FHPE20OFF004902</td>\n",
              "      <td>1</td>\n",
              "      <td>FLORIDA HIGHWAY PATROL</td>\n",
              "      <td>6</td>\n",
              "      <td>87</td>\n",
              "      <td>MIAMI-DADE</td>\n",
              "      <td>...</td>\n",
              "      <td>576167.801921</td>\n",
              "      <td>2.855111e+06</td>\n",
              "      <td>R</td>\n",
              "      <td>NaN</td>\n",
              "      <td>ARBM15Q1R2</td>\n",
              "      <td>1686446352000</td>\n",
              "      <td>NaN</td>\n",
              "      <td>579.0</td>\n",
              "      <td>1</td>\n",
              "      <td>4.015645</td>\n",
              "    </tr>\n",
              "    <tr>\n",
              "      <th>766</th>\n",
              "      <td>1837708</td>\n",
              "      <td>2020882707750</td>\n",
              "      <td>2020</td>\n",
              "      <td>882707750</td>\n",
              "      <td>FHPE20OFF012537</td>\n",
              "      <td>1</td>\n",
              "      <td>FLORIDA HIGHWAY PATROL</td>\n",
              "      <td>6</td>\n",
              "      <td>87</td>\n",
              "      <td>MIAMI-DADE</td>\n",
              "      <td>...</td>\n",
              "      <td>579495.366942</td>\n",
              "      <td>2.871863e+06</td>\n",
              "      <td>L</td>\n",
              "      <td>NaN</td>\n",
              "      <td>ARBM15Q1R2</td>\n",
              "      <td>1686446352000</td>\n",
              "      <td>NaN</td>\n",
              "      <td>766.0</td>\n",
              "      <td>1</td>\n",
              "      <td>4.015645</td>\n",
              "    </tr>\n",
              "    <tr>\n",
              "      <th>930</th>\n",
              "      <td>1839879</td>\n",
              "      <td>2020882870200</td>\n",
              "      <td>2020</td>\n",
              "      <td>882870200</td>\n",
              "      <td>FHPE20OFF008217</td>\n",
              "      <td>1</td>\n",
              "      <td>FLORIDA HIGHWAY PATROL</td>\n",
              "      <td>6</td>\n",
              "      <td>87</td>\n",
              "      <td>MIAMI-DADE</td>\n",
              "      <td>...</td>\n",
              "      <td>567992.293014</td>\n",
              "      <td>2.856536e+06</td>\n",
              "      <td>R</td>\n",
              "      <td>NaN</td>\n",
              "      <td>ARBM15Q1R2</td>\n",
              "      <td>1686446352000</td>\n",
              "      <td>NaN</td>\n",
              "      <td>930.0</td>\n",
              "      <td>1</td>\n",
              "      <td>4.015645</td>\n",
              "    </tr>\n",
              "    <tr>\n",
              "      <th>...</th>\n",
              "      <td>...</td>\n",
              "      <td>...</td>\n",
              "      <td>...</td>\n",
              "      <td>...</td>\n",
              "      <td>...</td>\n",
              "      <td>...</td>\n",
              "      <td>...</td>\n",
              "      <td>...</td>\n",
              "      <td>...</td>\n",
              "      <td>...</td>\n",
              "      <td>...</td>\n",
              "      <td>...</td>\n",
              "      <td>...</td>\n",
              "      <td>...</td>\n",
              "      <td>...</td>\n",
              "      <td>...</td>\n",
              "      <td>...</td>\n",
              "      <td>...</td>\n",
              "      <td>...</td>\n",
              "      <td>...</td>\n",
              "      <td>...</td>\n",
              "    </tr>\n",
              "    <tr>\n",
              "      <th>42198</th>\n",
              "      <td>3273925</td>\n",
              "      <td>2020898971620</td>\n",
              "      <td>2020</td>\n",
              "      <td>898971620</td>\n",
              "      <td>20111234</td>\n",
              "      <td>3</td>\n",
              "      <td>CITY POLICE DEPARTMENT</td>\n",
              "      <td>4</td>\n",
              "      <td>93</td>\n",
              "      <td>PALM BEACH</td>\n",
              "      <td>...</td>\n",
              "      <td>581403.299398</td>\n",
              "      <td>2.951221e+06</td>\n",
              "      <td>R</td>\n",
              "      <td>NaN</td>\n",
              "      <td>ARBM15Q1R2</td>\n",
              "      <td>1686446352000</td>\n",
              "      <td>NaN</td>\n",
              "      <td>42198.0</td>\n",
              "      <td>3</td>\n",
              "      <td>4.015645</td>\n",
              "    </tr>\n",
              "    <tr>\n",
              "      <th>42209</th>\n",
              "      <td>3273940</td>\n",
              "      <td>2020898906650</td>\n",
              "      <td>2020</td>\n",
              "      <td>898906650</td>\n",
              "      <td>20120371</td>\n",
              "      <td>3</td>\n",
              "      <td>CITY POLICE DEPARTMENT</td>\n",
              "      <td>4</td>\n",
              "      <td>93</td>\n",
              "      <td>PALM BEACH</td>\n",
              "      <td>...</td>\n",
              "      <td>579083.416596</td>\n",
              "      <td>2.938664e+06</td>\n",
              "      <td>L</td>\n",
              "      <td>NaN</td>\n",
              "      <td>ARBM15Q1R2</td>\n",
              "      <td>1686446352000</td>\n",
              "      <td>NaN</td>\n",
              "      <td>42209.0</td>\n",
              "      <td>3</td>\n",
              "      <td>4.015645</td>\n",
              "    </tr>\n",
              "    <tr>\n",
              "      <th>42280</th>\n",
              "      <td>3275029</td>\n",
              "      <td>2020899176940</td>\n",
              "      <td>2020</td>\n",
              "      <td>899176940</td>\n",
              "      <td>20200008238</td>\n",
              "      <td>2</td>\n",
              "      <td>COUNTY SHERIFF'S OFFICE</td>\n",
              "      <td>4</td>\n",
              "      <td>93</td>\n",
              "      <td>PALM BEACH</td>\n",
              "      <td>...</td>\n",
              "      <td>593851.618921</td>\n",
              "      <td>2.959440e+06</td>\n",
              "      <td>C</td>\n",
              "      <td>NaN</td>\n",
              "      <td>ARBM15Q1R2</td>\n",
              "      <td>1686446352000</td>\n",
              "      <td>NaN</td>\n",
              "      <td>42280.0</td>\n",
              "      <td>3</td>\n",
              "      <td>4.015645</td>\n",
              "    </tr>\n",
              "    <tr>\n",
              "      <th>42292</th>\n",
              "      <td>3275084</td>\n",
              "      <td>2020898980840</td>\n",
              "      <td>2020</td>\n",
              "      <td>898980840</td>\n",
              "      <td>20141981</td>\n",
              "      <td>3</td>\n",
              "      <td>CITY POLICE DEPARTMENT</td>\n",
              "      <td>4</td>\n",
              "      <td>93</td>\n",
              "      <td>PALM BEACH</td>\n",
              "      <td>...</td>\n",
              "      <td>593465.553079</td>\n",
              "      <td>2.944329e+06</td>\n",
              "      <td>O</td>\n",
              "      <td>NaN</td>\n",
              "      <td>ARBM15Q1R2</td>\n",
              "      <td>1686446352000</td>\n",
              "      <td>NaN</td>\n",
              "      <td>42292.0</td>\n",
              "      <td>3</td>\n",
              "      <td>4.015645</td>\n",
              "    </tr>\n",
              "    <tr>\n",
              "      <th>42305</th>\n",
              "      <td>3275165</td>\n",
              "      <td>2020898981560</td>\n",
              "      <td>2020</td>\n",
              "      <td>898981560</td>\n",
              "      <td>20100284</td>\n",
              "      <td>3</td>\n",
              "      <td>CITY POLICE DEPARTMENT</td>\n",
              "      <td>4</td>\n",
              "      <td>93</td>\n",
              "      <td>PALM BEACH</td>\n",
              "      <td>...</td>\n",
              "      <td>579498.008663</td>\n",
              "      <td>2.954395e+06</td>\n",
              "      <td>R</td>\n",
              "      <td>NaN</td>\n",
              "      <td>ARBM15Q1R2</td>\n",
              "      <td>1686446352000</td>\n",
              "      <td>NaN</td>\n",
              "      <td>42305.0</td>\n",
              "      <td>3</td>\n",
              "      <td>4.015645</td>\n",
              "    </tr>\n",
              "  </tbody>\n",
              "</table>\n",
              "<p>473 rows × 159 columns</p>\n",
              "</div>\n",
              "    <div class=\"colab-df-buttons\">\n",
              "\n",
              "  <div class=\"colab-df-container\">\n",
              "    <button class=\"colab-df-convert\" onclick=\"convertToInteractive('df-48e6019f-9050-4227-bab9-31795b19a1a0')\"\n",
              "            title=\"Convert this dataframe to an interactive table.\"\n",
              "            style=\"display:none;\">\n",
              "\n",
              "  <svg xmlns=\"http://www.w3.org/2000/svg\" height=\"24px\" viewBox=\"0 -960 960 960\">\n",
              "    <path d=\"M120-120v-720h720v720H120Zm60-500h600v-160H180v160Zm220 220h160v-160H400v160Zm0 220h160v-160H400v160ZM180-400h160v-160H180v160Zm440 0h160v-160H620v160ZM180-180h160v-160H180v160Zm440 0h160v-160H620v160Z\"/>\n",
              "  </svg>\n",
              "    </button>\n",
              "\n",
              "  <style>\n",
              "    .colab-df-container {\n",
              "      display:flex;\n",
              "      gap: 12px;\n",
              "    }\n",
              "\n",
              "    .colab-df-convert {\n",
              "      background-color: #E8F0FE;\n",
              "      border: none;\n",
              "      border-radius: 50%;\n",
              "      cursor: pointer;\n",
              "      display: none;\n",
              "      fill: #1967D2;\n",
              "      height: 32px;\n",
              "      padding: 0 0 0 0;\n",
              "      width: 32px;\n",
              "    }\n",
              "\n",
              "    .colab-df-convert:hover {\n",
              "      background-color: #E2EBFA;\n",
              "      box-shadow: 0px 1px 2px rgba(60, 64, 67, 0.3), 0px 1px 3px 1px rgba(60, 64, 67, 0.15);\n",
              "      fill: #174EA6;\n",
              "    }\n",
              "\n",
              "    .colab-df-buttons div {\n",
              "      margin-bottom: 4px;\n",
              "    }\n",
              "\n",
              "    [theme=dark] .colab-df-convert {\n",
              "      background-color: #3B4455;\n",
              "      fill: #D2E3FC;\n",
              "    }\n",
              "\n",
              "    [theme=dark] .colab-df-convert:hover {\n",
              "      background-color: #434B5C;\n",
              "      box-shadow: 0px 1px 3px 1px rgba(0, 0, 0, 0.15);\n",
              "      filter: drop-shadow(0px 1px 2px rgba(0, 0, 0, 0.3));\n",
              "      fill: #FFFFFF;\n",
              "    }\n",
              "  </style>\n",
              "\n",
              "    <script>\n",
              "      const buttonEl =\n",
              "        document.querySelector('#df-48e6019f-9050-4227-bab9-31795b19a1a0 button.colab-df-convert');\n",
              "      buttonEl.style.display =\n",
              "        google.colab.kernel.accessAllowed ? 'block' : 'none';\n",
              "\n",
              "      async function convertToInteractive(key) {\n",
              "        const element = document.querySelector('#df-48e6019f-9050-4227-bab9-31795b19a1a0');\n",
              "        const dataTable =\n",
              "          await google.colab.kernel.invokeFunction('convertToInteractive',\n",
              "                                                    [key], {});\n",
              "        if (!dataTable) return;\n",
              "\n",
              "        const docLinkHtml = 'Like what you see? Visit the ' +\n",
              "          '<a target=\"_blank\" href=https://colab.research.google.com/notebooks/data_table.ipynb>data table notebook</a>'\n",
              "          + ' to learn more about interactive tables.';\n",
              "        element.innerHTML = '';\n",
              "        dataTable['output_type'] = 'display_data';\n",
              "        await google.colab.output.renderOutput(dataTable, element);\n",
              "        const docLink = document.createElement('div');\n",
              "        docLink.innerHTML = docLinkHtml;\n",
              "        element.appendChild(docLink);\n",
              "      }\n",
              "    </script>\n",
              "  </div>\n",
              "\n",
              "\n",
              "<div id=\"df-b3296d25-dc0d-409a-9544-a6ff36a5131f\">\n",
              "  <button class=\"colab-df-quickchart\" onclick=\"quickchart('df-b3296d25-dc0d-409a-9544-a6ff36a5131f')\"\n",
              "            title=\"Suggest charts\"\n",
              "            style=\"display:none;\">\n",
              "\n",
              "<svg xmlns=\"http://www.w3.org/2000/svg\" height=\"24px\"viewBox=\"0 0 24 24\"\n",
              "     width=\"24px\">\n",
              "    <g>\n",
              "        <path d=\"M19 3H5c-1.1 0-2 .9-2 2v14c0 1.1.9 2 2 2h14c1.1 0 2-.9 2-2V5c0-1.1-.9-2-2-2zM9 17H7v-7h2v7zm4 0h-2V7h2v10zm4 0h-2v-4h2v4z\"/>\n",
              "    </g>\n",
              "</svg>\n",
              "  </button>\n",
              "\n",
              "<style>\n",
              "  .colab-df-quickchart {\n",
              "      --bg-color: #E8F0FE;\n",
              "      --fill-color: #1967D2;\n",
              "      --hover-bg-color: #E2EBFA;\n",
              "      --hover-fill-color: #174EA6;\n",
              "      --disabled-fill-color: #AAA;\n",
              "      --disabled-bg-color: #DDD;\n",
              "  }\n",
              "\n",
              "  [theme=dark] .colab-df-quickchart {\n",
              "      --bg-color: #3B4455;\n",
              "      --fill-color: #D2E3FC;\n",
              "      --hover-bg-color: #434B5C;\n",
              "      --hover-fill-color: #FFFFFF;\n",
              "      --disabled-bg-color: #3B4455;\n",
              "      --disabled-fill-color: #666;\n",
              "  }\n",
              "\n",
              "  .colab-df-quickchart {\n",
              "    background-color: var(--bg-color);\n",
              "    border: none;\n",
              "    border-radius: 50%;\n",
              "    cursor: pointer;\n",
              "    display: none;\n",
              "    fill: var(--fill-color);\n",
              "    height: 32px;\n",
              "    padding: 0;\n",
              "    width: 32px;\n",
              "  }\n",
              "\n",
              "  .colab-df-quickchart:hover {\n",
              "    background-color: var(--hover-bg-color);\n",
              "    box-shadow: 0 1px 2px rgba(60, 64, 67, 0.3), 0 1px 3px 1px rgba(60, 64, 67, 0.15);\n",
              "    fill: var(--button-hover-fill-color);\n",
              "  }\n",
              "\n",
              "  .colab-df-quickchart-complete:disabled,\n",
              "  .colab-df-quickchart-complete:disabled:hover {\n",
              "    background-color: var(--disabled-bg-color);\n",
              "    fill: var(--disabled-fill-color);\n",
              "    box-shadow: none;\n",
              "  }\n",
              "\n",
              "  .colab-df-spinner {\n",
              "    border: 2px solid var(--fill-color);\n",
              "    border-color: transparent;\n",
              "    border-bottom-color: var(--fill-color);\n",
              "    animation:\n",
              "      spin 1s steps(1) infinite;\n",
              "  }\n",
              "\n",
              "  @keyframes spin {\n",
              "    0% {\n",
              "      border-color: transparent;\n",
              "      border-bottom-color: var(--fill-color);\n",
              "      border-left-color: var(--fill-color);\n",
              "    }\n",
              "    20% {\n",
              "      border-color: transparent;\n",
              "      border-left-color: var(--fill-color);\n",
              "      border-top-color: var(--fill-color);\n",
              "    }\n",
              "    30% {\n",
              "      border-color: transparent;\n",
              "      border-left-color: var(--fill-color);\n",
              "      border-top-color: var(--fill-color);\n",
              "      border-right-color: var(--fill-color);\n",
              "    }\n",
              "    40% {\n",
              "      border-color: transparent;\n",
              "      border-right-color: var(--fill-color);\n",
              "      border-top-color: var(--fill-color);\n",
              "    }\n",
              "    60% {\n",
              "      border-color: transparent;\n",
              "      border-right-color: var(--fill-color);\n",
              "    }\n",
              "    80% {\n",
              "      border-color: transparent;\n",
              "      border-right-color: var(--fill-color);\n",
              "      border-bottom-color: var(--fill-color);\n",
              "    }\n",
              "    90% {\n",
              "      border-color: transparent;\n",
              "      border-bottom-color: var(--fill-color);\n",
              "    }\n",
              "  }\n",
              "</style>\n",
              "\n",
              "  <script>\n",
              "    async function quickchart(key) {\n",
              "      const quickchartButtonEl =\n",
              "        document.querySelector('#' + key + ' button');\n",
              "      quickchartButtonEl.disabled = true;  // To prevent multiple clicks.\n",
              "      quickchartButtonEl.classList.add('colab-df-spinner');\n",
              "      try {\n",
              "        const charts = await google.colab.kernel.invokeFunction(\n",
              "            'suggestCharts', [key], {});\n",
              "      } catch (error) {\n",
              "        console.error('Error during call to suggestCharts:', error);\n",
              "      }\n",
              "      quickchartButtonEl.classList.remove('colab-df-spinner');\n",
              "      quickchartButtonEl.classList.add('colab-df-quickchart-complete');\n",
              "    }\n",
              "    (() => {\n",
              "      let quickchartButtonEl =\n",
              "        document.querySelector('#df-b3296d25-dc0d-409a-9544-a6ff36a5131f button');\n",
              "      quickchartButtonEl.style.display =\n",
              "        google.colab.kernel.accessAllowed ? 'block' : 'none';\n",
              "    })();\n",
              "  </script>\n",
              "</div>\n",
              "\n",
              "    </div>\n",
              "  </div>\n"
            ]
          },
          "metadata": {},
          "execution_count": 74
        }
      ]
    },
    {
      "cell_type": "code",
      "source": [
        "inj_sever_outliers = data.query('INJSEVER_Z > 3 | INJSEVER_Z < -3')\n",
        "print(inj_sever_outliers.head())"
      ],
      "metadata": {
        "colab": {
          "base_uri": "https://localhost:8080/",
          "height": 0
        },
        "id": "dnkA10_NEtsc",
        "outputId": "29abd77f-f40f-4853-e709-659290e5c6e3"
      },
      "execution_count": 75,
      "outputs": [
        {
          "output_type": "stream",
          "name": "stdout",
          "text": [
            "     OBJECTID            XID  CALENDAR_YEAR  CRASH_NUMBER      CASE_NUMBER  \\\n",
            "277   1674429  2020882469490           2020     882469490  FHPE20OFF003406   \n",
            "383   1679423  2020882502240           2020     882502240  FHPE20OFF038860   \n",
            "579   1835930  2020882852680           2020     882852680  FHPE20OFF004902   \n",
            "766   1837708  2020882707750           2020     882707750  FHPE20OFF012537   \n",
            "930   1839879  2020882870200           2020     882870200  FHPE20OFF008217   \n",
            "\n",
            "     INVSTGT_AGCY_CD         AGENCY_TYPE_TXT  DOT_GEOG_DIST_CD  DOT_CNTY_CD  \\\n",
            "277                1  FLORIDA HIGHWAY PATROL                 6           87   \n",
            "383                1  FLORIDA HIGHWAY PATROL                 6           87   \n",
            "579                1  FLORIDA HIGHWAY PATROL                 6           87   \n",
            "766                1  FLORIDA HIGHWAY PATROL                 6           87   \n",
            "930                1  FLORIDA HIGHWAY PATROL                 6           87   \n",
            "\n",
            "     COUNTY_TXT  ...   X_COORDINATE  Y_COORDINATE  ARBM_ROADSIDE  \\\n",
            "277  MIAMI-DADE  ...  549703.315794  2.811374e+06              C   \n",
            "383  MIAMI-DADE  ...  560609.109468  2.826090e+06              R   \n",
            "579  MIAMI-DADE  ...  576167.801921  2.855111e+06              R   \n",
            "766  MIAMI-DADE  ...  579495.366942  2.871863e+06              L   \n",
            "930  MIAMI-DADE  ...  567992.293014  2.856536e+06              R   \n",
            "\n",
            "    GEO_URBAN_RURAL_IND  MAP_SOURCE   EXTRACT_DATE ARBM_ROAD_STATUS  index  \\\n",
            "277                 NaN  ARBM15Q1R2  1686446352000              NaN  277.0   \n",
            "383                 NaN  ARBM15Q1R2  1686446352000              NaN  383.0   \n",
            "579                 NaN  ARBM15Q1R2  1686446352000              NaN  579.0   \n",
            "766                 NaN  ARBM15Q1R2  1686446352000              NaN  766.0   \n",
            "930                 NaN  ARBM15Q1R2  1686446352000              NaN  930.0   \n",
            "\n",
            "    COUNTY_CODE  INJSEVER_Z  \n",
            "277           1    4.015645  \n",
            "383           1    4.015645  \n",
            "579           1    4.015645  \n",
            "766           1    4.015645  \n",
            "930           1    4.015645  \n",
            "\n",
            "[5 rows x 159 columns]\n"
          ]
        }
      ]
    },
    {
      "cell_type": "markdown",
      "source": [
        "### 12. Sort the dataset and display 15 interesting fields."
      ],
      "metadata": {
        "id": "9893fEn04xN6"
      }
    },
    {
      "cell_type": "code",
      "source": [
        "sorted_data = data.sort_values(['INJSEVER_Z'], ascending = False)\n",
        "print(sorted_data[['NUMBER_OF_INJURED', 'NUMBER_OF_KILLED', 'NUMBER_OF_SERIOUS_INJURIES', 'SPEEDING_IND', 'AGGRESSIVE_DRIVING_IND','IMPAIRED_DRIVER_IND', 'NO_BELT_IND', 'AGE_TEEN_IND', 'LANE_DEPARTURE_IND', 'SCHL_BUS_REL_CD','SPEED_LIMIT', 'AVERAGE_DAILY_TRAFFIC', 'DAYOWEEK', 'PEDESTRIAN_RELATED_IND', 'BICYCLIST_RELATED_IND']].head())"
      ],
      "metadata": {
        "colab": {
          "base_uri": "https://localhost:8080/",
          "height": 0
        },
        "id": "Lf5OVS0w41S-",
        "outputId": "2613e003-06da-4946-ae1f-0adb65c0d801"
      },
      "execution_count": 76,
      "outputs": [
        {
          "output_type": "stream",
          "name": "stdout",
          "text": [
            "       NUMBER_OF_INJURED  NUMBER_OF_KILLED  NUMBER_OF_SERIOUS_INJURIES  \\\n",
            "7672                   0                 0                           0   \n",
            "10567                  0                 0                           0   \n",
            "40625                  0                 0                           0   \n",
            "21046                  0                 0                           0   \n",
            "22695                  0                 0                           0   \n",
            "\n",
            "      SPEEDING_IND AGGRESSIVE_DRIVING_IND IMPAIRED_DRIVER_IND NO_BELT_IND  \\\n",
            "7672             N                      N                   N           N   \n",
            "10567            N                      N                   N           Y   \n",
            "40625            N                      N                   N           N   \n",
            "21046            N                      N                   N           N   \n",
            "22695            N                      N                   N           N   \n",
            "\n",
            "      AGE_TEEN_IND LANE_DEPARTURE_IND  SCHL_BUS_REL_CD  SPEED_LIMIT  \\\n",
            "7672             N                  N                1         40.0   \n",
            "10567            N                  Y                1         40.0   \n",
            "40625            N                  N                1         65.0   \n",
            "21046            N                  N                1         40.0   \n",
            "22695            N                  N                1         40.0   \n",
            "\n",
            "       AVERAGE_DAILY_TRAFFIC  DAYOWEEK PEDESTRIAN_RELATED_IND  \\\n",
            "7672                 28000.0         6                      N   \n",
            "10567                53500.0         5                      N   \n",
            "40625               223000.0         4                      Y   \n",
            "21046                66000.0         2                      N   \n",
            "22695                    NaN         2                      Y   \n",
            "\n",
            "      BICYCLIST_RELATED_IND  \n",
            "7672                      N  \n",
            "10567                     N  \n",
            "40625                     N  \n",
            "21046                     N  \n",
            "22695                     N  \n"
          ]
        }
      ]
    }
  ]
}